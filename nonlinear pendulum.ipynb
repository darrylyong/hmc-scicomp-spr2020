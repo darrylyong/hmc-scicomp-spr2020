{
 "cells": [
  {
   "cell_type": "markdown",
   "metadata": {},
   "source": [
    "This Jupyter notebook explores relationships between the quantities in the equation\n",
    "\n",
    "$\\displaystyle{T=2\\sqrt{\\frac{2L}{g}} \\int_0^{\\theta_{\\text{max}}} \\frac{d\\theta}{\\sqrt{\\cos\\theta-\\cos\\theta_{\\text{max}}}}}$\n",
    "\n",
    "which governs the period ($T$), length ($L$), and maximum swing of a pendulum ($\\theta_{\\text{max}}$). One tricky aspect about this integral is that the integrand has a singularity at $\\theta=\\theta_{\\text{max}}$.\n",
    "\n",
    "Darryl Yong 1/10/2020"
   ]
  },
  {
   "cell_type": "markdown",
   "metadata": {},
   "source": [
    "# 1. First we load in necessary libraries"
   ]
  },
  {
   "cell_type": "markdown",
   "metadata": {},
   "source": [
    " We're using quad from scipy.integrate to do the quadrature."
   ]
  },
  {
   "cell_type": "code",
   "execution_count": 22,
   "metadata": {},
   "outputs": [],
   "source": [
    "import numpy as np\n",
    "from scipy import integrate, optimize"
   ]
  },
  {
   "cell_type": "markdown",
   "metadata": {},
   "source": [
    "# 2. Define some parameters for the problem"
   ]
  },
  {
   "cell_type": "markdown",
   "metadata": {},
   "source": [
    "- g = gravity (in $m/s^2$)\n",
    "- thetamax = maximum angle of the swing, measured from vertical (in radians)\n",
    "- T = time for a complete period of the swing (in seconds)"
   ]
  },
  {
   "cell_type": "code",
   "execution_count": 23,
   "metadata": {},
   "outputs": [],
   "source": [
    "g = 9.8\n",
    "thetamax = np.pi / 10\n",
    "T = 2"
   ]
  },
  {
   "cell_type": "markdown",
   "metadata": {},
   "source": [
    "# 3. Define the integrand and test out the quad function"
   ]
  },
  {
   "cell_type": "code",
   "execution_count": 24,
   "metadata": {},
   "outputs": [],
   "source": [
    "integrand = lambda theta: 1/np.sqrt(np.cos(theta)-np.cos(thetamax))"
   ]
  },
  {
   "cell_type": "markdown",
   "metadata": {},
   "source": [
    "Notice that the integration appears to proceed without a problem even though the integrand has a singularity (divide by zero) at $\\theta=\\theta_{\\text{max}}$."
   ]
  },
  {
   "cell_type": "code",
   "execution_count": 25,
   "metadata": {},
   "outputs": [
    {
     "data": {
      "text/plain": [
       "(2.2352224245970485, 8.694200914760586e-11)"
      ]
     },
     "execution_count": 25,
     "metadata": {},
     "output_type": "execute_result"
    }
   ],
   "source": [
    "integrate.quad(integrand, 0, thetamax)"
   ]
  },
  {
   "cell_type": "markdown",
   "metadata": {},
   "source": [
    "To be careful, we should specify that the integrand has a singularity the \"points\" optional argument."
   ]
  },
  {
   "cell_type": "code",
   "execution_count": 26,
   "metadata": {},
   "outputs": [
    {
     "data": {
      "text/plain": [
       "(2.2352224245970485, 8.694200914760586e-11)"
      ]
     },
     "execution_count": 26,
     "metadata": {},
     "output_type": "execute_result"
    }
   ],
   "source": [
    "integrate.quad(integrand, 0, thetamax, points=[thetamax])"
   ]
  },
  {
   "cell_type": "markdown",
   "metadata": {},
   "source": [
    "Here's an alternative to using \"points\" by specifying a weighting function. This is possible if you know the degree of singularity that is present in the problem. In this case, we know that the integrand goes like $(\\theta_{\\text{max}}-\\theta)^{-1/2}$ as $\\theta\\to\\theta_{\\text{max}}$. So, we multiply the integrand by $(\\theta_{\\text{max}}-\\theta)^{1/2}$ to \"remove\" the singularity. We have to calculate the limit of the new integrand as $\\theta\\to\\theta_{\\text{max}}$, which is $2/\\sqrt(\\sqrt(5-1))$, and then we integrate using a weight function. See https://docs.scipy.org/doc/scipy/reference/generated/scipy.integrate.quad.html#scipy.integrate.quad. Notice that the estimated error is lower using this method."
   ]
  },
  {
   "cell_type": "code",
   "execution_count": 27,
   "metadata": {},
   "outputs": [],
   "source": [
    "integrand2 = lambda theta: 2/np.sqrt(np.sqrt(5)-1) if theta==thetamax else np.sqrt(thetamax-theta)/np.sqrt(np.cos(theta)-np.cos(thetamax))"
   ]
  },
  {
   "cell_type": "code",
   "execution_count": 28,
   "metadata": {},
   "outputs": [
    {
     "data": {
      "text/plain": [
       "(2.2352224246011514, 7.226542204582253e-14)"
      ]
     },
     "execution_count": 28,
     "metadata": {},
     "output_type": "execute_result"
    }
   ],
   "source": [
    "integrate.quad(integrand2, 0, thetamax, weight='alg', wvar=(0,-1/2))"
   ]
  },
  {
   "cell_type": "markdown",
   "metadata": {},
   "source": [
    "# 4. Solve for length given amplitude and time"
   ]
  },
  {
   "cell_type": "markdown",
   "metadata": {},
   "source": [
    "We rearrange the equation above to solve for $L$. The answer is shown below, in meters."
   ]
  },
  {
   "cell_type": "code",
   "execution_count": 29,
   "metadata": {},
   "outputs": [],
   "source": [
    "ans, err = integrate.quad(integrand, 0, thetamax, points=[thetamax])"
   ]
  },
  {
   "cell_type": "code",
   "execution_count": 30,
   "metadata": {},
   "outputs": [
    {
     "data": {
      "text/plain": [
       "2.2352224245970485"
      ]
     },
     "execution_count": 30,
     "metadata": {},
     "output_type": "execute_result"
    }
   ],
   "source": [
    "ans"
   ]
  },
  {
   "cell_type": "code",
   "execution_count": 31,
   "metadata": {},
   "outputs": [],
   "source": [
    "L = g * T**2 / (8 * ans)"
   ]
  },
  {
   "cell_type": "code",
   "execution_count": 32,
   "metadata": {},
   "outputs": [
    {
     "data": {
      "text/plain": [
       "2.1921755732579236"
      ]
     },
     "execution_count": 32,
     "metadata": {},
     "output_type": "execute_result"
    }
   ],
   "source": [
    "L"
   ]
  }
 ],
 "metadata": {
  "kernelspec": {
   "display_name": "Python 3",
   "language": "python",
   "name": "python3"
  },
  "language_info": {
   "codemirror_mode": {
    "name": "ipython",
    "version": 3
   },
   "file_extension": ".py",
   "mimetype": "text/x-python",
   "name": "python",
   "nbconvert_exporter": "python",
   "pygments_lexer": "ipython3",
   "version": "3.8.1"
  }
 },
 "nbformat": 4,
 "nbformat_minor": 4
}
